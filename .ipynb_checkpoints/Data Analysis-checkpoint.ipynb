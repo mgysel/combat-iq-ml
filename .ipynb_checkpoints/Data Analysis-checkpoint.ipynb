{
 "cells": [
  {
   "cell_type": "code",
   "execution_count": 2,
   "id": "e5cd7ad1",
   "metadata": {},
   "outputs": [],
   "source": [
    "import pandas as pd\n",
    "import numpy as np"
   ]
  },
  {
   "cell_type": "code",
   "execution_count": 4,
   "id": "9c95b006",
   "metadata": {},
   "outputs": [],
   "source": [
    "# Import data from output files\n",
    "data = np.loadtxt('output/output.csv',delimiter=',')"
   ]
  },
  {
   "cell_type": "code",
   "execution_count": 5,
   "id": "568ecc8d",
   "metadata": {},
   "outputs": [
    {
     "data": {
      "text/plain": [
       "array([[158.        , 135.        ,  84.        , 109.        ,\n",
       "        264.82513361, 326.00121228, 180.59666012, 154.98034022,\n",
       "        253.82576682, 208.90764909, 592.57781982, 566.92456055,\n",
       "        798.97027588, 568.35931396, 536.56152344, 308.09155273,\n",
       "        717.19592285, 252.78088379, 739.00134277, 461.21124268,\n",
       "        842.80596924, 419.70758057],\n",
       "       [149.        , 160.        , 115.        ,  75.        ,\n",
       "        168.38609978, 170.75100141,  90.11774068,  98.48304529,\n",
       "         78.28189743,  74.27956225,  27.7778244 , 463.0630188 ,\n",
       "         27.98858643, 461.55911255,  19.3054657 , 294.89019775,\n",
       "          7.89044571, 291.99505615,  22.18019867, 373.11929321,\n",
       "          3.57788849, 366.14932251],\n",
       "       [156.        , 132.        ,  83.        , 111.        ,\n",
       "        253.17692709, 314.29901956, 179.72681492, 151.31495515,\n",
       "        250.06392607, 204.3766125 , 592.9375    , 566.93688965,\n",
       "        800.02789307, 568.40063477, 536.86560059, 320.04724121,\n",
       "        715.7734375 , 265.60522461, 740.79821777, 464.76577759,\n",
       "        845.01599121, 423.92819214],\n",
       "       [147.        , 159.        , 113.        ,  77.        ,\n",
       "        164.85674774, 167.20046526,  86.4393289 ,  94.85074398,\n",
       "         78.42106657,  74.39565647,  27.82273102, 462.49645996,\n",
       "         28.73074341, 461.418396  ,  20.58483887, 297.79867554,\n",
       "          8.99272919, 295.38705444,  23.48059845, 376.16625977,\n",
       "          4.71097946, 369.65939331]])"
      ]
     },
     "execution_count": 5,
     "metadata": {},
     "output_type": "execute_result"
    }
   ],
   "source": [
    "data"
   ]
  },
  {
   "cell_type": "code",
   "execution_count": null,
   "id": "958c5f30",
   "metadata": {},
   "outputs": [],
   "source": []
  }
 ],
 "metadata": {
  "kernelspec": {
   "display_name": "Python 3",
   "language": "python",
   "name": "python3"
  },
  "language_info": {
   "codemirror_mode": {
    "name": "ipython",
    "version": 3
   },
   "file_extension": ".py",
   "mimetype": "text/x-python",
   "name": "python",
   "nbconvert_exporter": "python",
   "pygments_lexer": "ipython3",
   "version": "3.7.2"
  }
 },
 "nbformat": 4,
 "nbformat_minor": 5
}
